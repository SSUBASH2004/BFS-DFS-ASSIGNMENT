{
 "cells": [
  {
   "cell_type": "code",
   "execution_count": 10,
   "id": "53916e2c-63fe-405c-8a3f-f0d368929538",
   "metadata": {},
   "outputs": [
    {
     "name": "stdout",
     "output_type": "stream",
     "text": [
      "{'start': ['A', 'B'], 'A': ['start', 'E', 'F'], 'B': ['start', 'D', 'C'], 'C': ['B'], 'D': ['B', 'Goal'], 'E': ['B', 'G'], 'F': ['B'], 'G': ['E'], 'Goal': ['E', 'F']}\n"
     ]
    }
   ],
   "source": [
    "graph={\n",
    "    'start':['A','B'],\n",
    "    'A':['start','E','F'],\n",
    "    'B':['start','D','C'],\n",
    "    'C':['B'],\n",
    "    'D':['B','Goal'],\n",
    "    'E':['B','G'],\n",
    "    'F':['B'],\n",
    "    'G':['E'],\n",
    "    'Goal':['E','F']\n",
    "}\n",
    "print(graph)  "
   ]
  },
  {
   "cell_type": "code",
   "execution_count": 11,
   "id": "b68536b3-a38d-451f-9195-e66526b9f8c9",
   "metadata": {},
   "outputs": [],
   "source": [
    "def dfs(graph,start,Goal,visited):\n",
    "    stack=[start]\n",
    "    while stack:\n",
    "        node=stack.pop()\n",
    "        if node not in visited:\n",
    "            visited.append(node)\n",
    "            if node==Goal:\n",
    "                print(visited)\n",
    "            for neighbour in graph[node]:\n",
    "                dfs(graph,neighbour,Goal,visited)\n",
    "            "
   ]
  },
  {
   "cell_type": "code",
   "execution_count": 9,
   "id": "3bfba814-9a85-431a-9187-c44d3b04e674",
   "metadata": {},
   "outputs": [
    {
     "name": "stdout",
     "output_type": "stream",
     "text": [
      "['A', 'start', 'B', 'D', 'Goal', 'E']\n"
     ]
    }
   ],
   "source": [
    "dfs(graph,'A','E',[])"
   ]
  },
  {
   "cell_type": "code",
   "execution_count": null,
   "id": "65f5c2d7-98a3-4904-a47c-dd415ae1e974",
   "metadata": {},
   "outputs": [],
   "source": []
  }
 ],
 "metadata": {
  "kernelspec": {
   "display_name": "Python 3 (ipykernel)",
   "language": "python",
   "name": "python3"
  },
  "language_info": {
   "codemirror_mode": {
    "name": "ipython",
    "version": 3
   },
   "file_extension": ".py",
   "mimetype": "text/x-python",
   "name": "python",
   "nbconvert_exporter": "python",
   "pygments_lexer": "ipython3",
   "version": "3.9.18"
  }
 },
 "nbformat": 4,
 "nbformat_minor": 5
}
