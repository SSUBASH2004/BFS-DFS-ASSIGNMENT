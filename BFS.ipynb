{
 "cells": [
  {
   "cell_type": "code",
   "execution_count": 1,
   "id": "abf74d24-7b63-4002-b310-bf3dc7256c1f",
   "metadata": {},
   "outputs": [],
   "source": [
    "my_adj={\n",
    "    'start':['A','B'],\n",
    "    'A':['start','E','F'],\n",
    "    'B':['start','D','C'],\n",
    "    'C':['B'],\n",
    "    'D':['B','Goal'],\n",
    "    'E':['B','G'],\n",
    "    'F':['B'],\n",
    "    'G':['E'],\n",
    "    'Goal':['E','F']\n",
    "}"
   ]
  },
  {
   "cell_type": "code",
   "execution_count": 2,
   "id": "617e6e34-e70d-4169-a07a-b0923860aa09",
   "metadata": {},
   "outputs": [
    {
     "data": {
      "text/plain": [
       "{'start': ['A', 'B'],\n",
       " 'A': ['start', 'E', 'F'],\n",
       " 'B': ['start', 'D', 'C'],\n",
       " 'C': ['B'],\n",
       " 'D': ['B', 'Goal'],\n",
       " 'E': ['B', 'G'],\n",
       " 'F': ['B'],\n",
       " 'G': ['E'],\n",
       " 'Goal': ['E', 'F']}"
      ]
     },
     "execution_count": 2,
     "metadata": {},
     "output_type": "execute_result"
    }
   ],
   "source": [
    "my_adj"
   ]
  },
  {
   "cell_type": "markdown",
   "id": "26466cb3-2368-456c-8b02-01b0251916af",
   "metadata": {},
   "source": [
    "## Handling Queue In Python"
   ]
  },
  {
   "cell_type": "code",
   "execution_count": 3,
   "id": "a8d73514-c0fc-4da9-945d-15e896675c63",
   "metadata": {},
   "outputs": [],
   "source": [
    "from collections import deque"
   ]
  },
  {
   "cell_type": "code",
   "execution_count": 5,
   "id": "ccb75d04-97b7-4781-b9c7-a7365f7726a2",
   "metadata": {},
   "outputs": [
    {
     "name": "stdout",
     "output_type": "stream",
     "text": [
      "deque(['0', 'a', 'd', 'c', 'e'])\n"
     ]
    }
   ],
   "source": [
    "Q=deque([\"a\",\"d\",\"c\",\"e\"])\n",
    "Q.appendleft(\"0\")\n",
    "print(Q)"
   ]
  },
  {
   "cell_type": "code",
   "execution_count": 6,
   "id": "79ac20c4-ee5a-42c0-9840-8a57a8049195",
   "metadata": {},
   "outputs": [],
   "source": [
    "Q.append(\"f\")"
   ]
  },
  {
   "cell_type": "code",
   "execution_count": 7,
   "id": "59e41cc0-a5b6-4c8c-81a8-a10dcefd4a32",
   "metadata": {},
   "outputs": [
    {
     "data": {
      "text/plain": [
       "deque(['0', 'a', 'd', 'c', 'e', 'f'])"
      ]
     },
     "execution_count": 7,
     "metadata": {},
     "output_type": "execute_result"
    }
   ],
   "source": [
    "Q"
   ]
  },
  {
   "cell_type": "code",
   "execution_count": 8,
   "id": "388a3796-958d-4072-91d8-80ea28125c07",
   "metadata": {},
   "outputs": [
    {
     "data": {
      "text/plain": [
       "'f'"
      ]
     },
     "execution_count": 8,
     "metadata": {},
     "output_type": "execute_result"
    }
   ],
   "source": [
    "Q.pop()"
   ]
  },
  {
   "cell_type": "code",
   "execution_count": 9,
   "id": "d75a4849-685b-446f-bc78-9e0642b8f79b",
   "metadata": {},
   "outputs": [
    {
     "name": "stdout",
     "output_type": "stream",
     "text": [
      "{'start': ['A', 'B'], 'A': ['start', 'E', 'F'], 'B': ['start', 'D', 'C'], 'C': ['B'], 'D': ['B', 'Goal'], 'E': ['B', 'G'], 'F': ['B'], 'G': ['E'], 'Goal': ['E', 'F']}\n"
     ]
    }
   ],
   "source": [
    "graph={\n",
    "    'start':['A','B'],\n",
    "    'A':['start','E','F'],\n",
    "    'B':['start','D','C'],\n",
    "    'C':['B'],\n",
    "    'D':['B','Goal'],\n",
    "    'E':['B','G'],\n",
    "    'F':['B'],\n",
    "    'G':['E'],\n",
    "    'Goal':['E','F']\n",
    "}\n",
    "print(graph)    "
   ]
  },
  {
   "cell_type": "code",
   "execution_count": null,
   "id": "7e03ce29-6148-4154-9ec6-35f02f56b557",
   "metadata": {},
   "outputs": [],
   "source": [
    "from collections import deque\n",
    "def bfs(graph,start,Goal):\n",
    "    visited=[]\n",
    "    queue=deque([start])\n",
    "    while queue:\n",
    "        node=queue.popleft()\n",
    "        if node not in visited:\n",
    "            visited.append\n",
    "            "
   ]
  }
 ],
 "metadata": {
  "kernelspec": {
   "display_name": "Python 3 (ipykernel)",
   "language": "python",
   "name": "python3"
  },
  "language_info": {
   "codemirror_mode": {
    "name": "ipython",
    "version": 3
   },
   "file_extension": ".py",
   "mimetype": "text/x-python",
   "name": "python",
   "nbconvert_exporter": "python",
   "pygments_lexer": "ipython3",
   "version": "3.9.18"
  }
 },
 "nbformat": 4,
 "nbformat_minor": 5
}
